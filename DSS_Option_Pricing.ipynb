{
  "cells": [
    {
      "cell_type": "code",
      "execution_count": null,
      "id": "ae9a2da3",
      "metadata": {
        "colab": {
          "base_uri": "https://localhost:8080/"
        },
        "id": "ae9a2da3",
        "outputId": "f671a182-8b92-40b2-f3e7-2c90d92333c1"
      },
      "outputs": [
        {
          "output_type": "stream",
          "name": "stdout",
          "text": [
            "Looking in indexes: https://pypi.org/simple, https://us-python.pkg.dev/colab-wheels/public/simple/\n",
            "Collecting yfinance\n",
            "  Downloading yfinance-0.1.87-py2.py3-none-any.whl (29 kB)\n",
            "Requirement already satisfied: numpy>=1.15 in /usr/local/lib/python3.7/dist-packages (from yfinance) (1.21.6)\n",
            "Requirement already satisfied: appdirs>=1.4.4 in /usr/local/lib/python3.7/dist-packages (from yfinance) (1.4.4)\n",
            "Requirement already satisfied: lxml>=4.5.1 in /usr/local/lib/python3.7/dist-packages (from yfinance) (4.9.1)\n",
            "Requirement already satisfied: multitasking>=0.0.7 in /usr/local/lib/python3.7/dist-packages (from yfinance) (0.0.11)\n",
            "Collecting requests>=2.26\n",
            "  Downloading requests-2.28.1-py3-none-any.whl (62 kB)\n",
            "\u001b[K     |████████████████████████████████| 62 kB 6.8 MB/s \n",
            "\u001b[?25hRequirement already satisfied: pandas>=0.24.0 in /usr/local/lib/python3.7/dist-packages (from yfinance) (1.3.5)\n",
            "Requirement already satisfied: python-dateutil>=2.7.3 in /usr/local/lib/python3.7/dist-packages (from pandas>=0.24.0->yfinance) (2.8.2)\n",
            "Requirement already satisfied: pytz>=2017.3 in /usr/local/lib/python3.7/dist-packages (from pandas>=0.24.0->yfinance) (2022.6)\n",
            "Requirement already satisfied: six>=1.5 in /usr/local/lib/python3.7/dist-packages (from python-dateutil>=2.7.3->pandas>=0.24.0->yfinance) (1.15.0)\n",
            "Requirement already satisfied: certifi>=2017.4.17 in /usr/local/lib/python3.7/dist-packages (from requests>=2.26->yfinance) (2022.9.24)\n",
            "Requirement already satisfied: charset-normalizer<3,>=2 in /usr/local/lib/python3.7/dist-packages (from requests>=2.26->yfinance) (2.1.1)\n",
            "Requirement already satisfied: idna<4,>=2.5 in /usr/local/lib/python3.7/dist-packages (from requests>=2.26->yfinance) (2.10)\n",
            "Requirement already satisfied: urllib3<1.27,>=1.21.1 in /usr/local/lib/python3.7/dist-packages (from requests>=2.26->yfinance) (1.24.3)\n",
            "Installing collected packages: requests, yfinance\n",
            "  Attempting uninstall: requests\n",
            "    Found existing installation: requests 2.23.0\n",
            "    Uninstalling requests-2.23.0:\n",
            "      Successfully uninstalled requests-2.23.0\n",
            "Successfully installed requests-2.28.1 yfinance-0.1.87\n"
          ]
        }
      ],
      "source": [
        "pip install yfinance --upgrade --no-cache-dir"
      ]
    },
    {
      "cell_type": "code",
      "execution_count": null,
      "id": "baffc061",
      "metadata": {
        "id": "baffc061"
      },
      "outputs": [],
      "source": [
        "import yfinance as yf\n",
        "import pandas as pd\n",
        "import numpy as np\n",
        "import matplotlib.pyplot as plt \n",
        "import seaborn as sns\n",
        "from datetime import datetime\n",
        "from scipy.stats import norm\n",
        "from scipy.optimize import minimize"
      ]
    },
    {
      "cell_type": "code",
      "execution_count": null,
      "id": "02f7a224",
      "metadata": {
        "colab": {
          "base_uri": "https://localhost:8080/"
        },
        "id": "02f7a224",
        "outputId": "b01a33ac-52b0-4b1a-b84c-965f0c9ae3bf"
      },
      "outputs": [
        {
          "output_type": "execute_result",
          "data": {
            "text/plain": [
              "yfinance.Ticker object <AAPL>"
            ]
          },
          "metadata": {},
          "execution_count": 3
        }
      ],
      "source": [
        "aapl = yf.Ticker('aapl')\n",
        "aapl"
      ]
    },
    {
      "cell_type": "code",
      "execution_count": null,
      "id": "0d22dc9e",
      "metadata": {
        "colab": {
          "base_uri": "https://localhost:8080/"
        },
        "id": "0d22dc9e",
        "outputId": "8ef49baa-5e60-4005-df03-8377a09c541d"
      },
      "outputs": [
        {
          "output_type": "execute_result",
          "data": {
            "text/plain": [
              "('2022-12-09',\n",
              " '2022-12-16',\n",
              " '2022-12-23',\n",
              " '2022-12-30',\n",
              " '2023-01-06',\n",
              " '2023-01-20',\n",
              " '2023-02-17',\n",
              " '2023-03-17',\n",
              " '2023-04-21',\n",
              " '2023-05-19',\n",
              " '2023-06-16',\n",
              " '2023-07-21',\n",
              " '2023-09-15',\n",
              " '2024-01-19',\n",
              " '2024-03-15',\n",
              " '2024-06-21',\n",
              " '2025-01-17')"
            ]
          },
          "metadata": {},
          "execution_count": 4
        }
      ],
      "source": [
        "aapl.options"
      ]
    },
    {
      "cell_type": "code",
      "execution_count": null,
      "id": "7b9ab8e4",
      "metadata": {
        "colab": {
          "base_uri": "https://localhost:8080/",
          "height": 653
        },
        "id": "7b9ab8e4",
        "outputId": "c316abd4-2118-483a-e617-4f36246b5b57"
      },
      "outputs": [
        {
          "output_type": "execute_result",
          "data": {
            "text/plain": [
              "         contractSymbol             lastTradeDate  strike  lastPrice     bid  \\\n",
              "0   AAPL221216C00030000 2022-11-29 16:39:22+00:00    30.0     112.00  117.50   \n",
              "1   AAPL221216C00035000 2022-11-11 15:15:22+00:00    35.0     112.30  112.50   \n",
              "2   AAPL221216C00040000 2022-12-02 18:53:22+00:00    40.0     106.66  107.50   \n",
              "3   AAPL221216C00045000 2022-11-02 18:35:32+00:00    45.0     106.50  102.50   \n",
              "4   AAPL221216C00050000 2022-11-18 20:46:59+00:00    50.0     101.73   97.55   \n",
              "..                  ...                       ...     ...        ...     ...   \n",
              "62  AAPL221216C00270000 2022-11-18 15:04:00+00:00   270.0       0.01    0.00   \n",
              "63  AAPL221216C00275000 2022-09-23 19:41:05+00:00   275.0       0.01    0.00   \n",
              "64  AAPL221216C00280000 2022-11-28 14:30:11+00:00   280.0       0.01    0.00   \n",
              "65  AAPL221216C00285000 2022-10-05 14:08:22+00:00   285.0       0.01    0.00   \n",
              "66  AAPL221216C00290000 2022-11-15 14:30:03+00:00   290.0       0.01    0.00   \n",
              "\n",
              "       ask    change  percentChange  volume  openInterest  impliedVolatility  \\\n",
              "0   118.25  0.000000        0.00000       1             2           3.296877   \n",
              "1   113.25  0.000000        0.00000       4            22           2.984378   \n",
              "2   108.20 -5.619995       -5.00534       4           389           2.578129   \n",
              "3   103.15  0.000000        0.00000     238           483           2.125005   \n",
              "4    98.20  0.000000        0.00000       2           331           2.265629   \n",
              "..     ...       ...            ...     ...           ...                ...   \n",
              "62    0.01  0.000000        0.00000       1          2446           0.968750   \n",
              "63    0.01  0.000000        0.00000    1500          3742           0.984375   \n",
              "64    0.01  0.000000        0.00000       6          4898           1.031255   \n",
              "65    0.01  0.000000        0.00000       3          1591           1.062505   \n",
              "66    0.01  0.000000        0.00000       1          5636           1.062505   \n",
              "\n",
              "    inTheMoney contractSize currency  \n",
              "0         True      REGULAR      USD  \n",
              "1         True      REGULAR      USD  \n",
              "2         True      REGULAR      USD  \n",
              "3         True      REGULAR      USD  \n",
              "4         True      REGULAR      USD  \n",
              "..         ...          ...      ...  \n",
              "62       False      REGULAR      USD  \n",
              "63       False      REGULAR      USD  \n",
              "64       False      REGULAR      USD  \n",
              "65       False      REGULAR      USD  \n",
              "66       False      REGULAR      USD  \n",
              "\n",
              "[67 rows x 14 columns]"
            ],
            "text/html": [
              "\n",
              "  <div id=\"df-83ec4e34-f0a2-4b5a-a7cb-448450b79180\">\n",
              "    <div class=\"colab-df-container\">\n",
              "      <div>\n",
              "<style scoped>\n",
              "    .dataframe tbody tr th:only-of-type {\n",
              "        vertical-align: middle;\n",
              "    }\n",
              "\n",
              "    .dataframe tbody tr th {\n",
              "        vertical-align: top;\n",
              "    }\n",
              "\n",
              "    .dataframe thead th {\n",
              "        text-align: right;\n",
              "    }\n",
              "</style>\n",
              "<table border=\"1\" class=\"dataframe\">\n",
              "  <thead>\n",
              "    <tr style=\"text-align: right;\">\n",
              "      <th></th>\n",
              "      <th>contractSymbol</th>\n",
              "      <th>lastTradeDate</th>\n",
              "      <th>strike</th>\n",
              "      <th>lastPrice</th>\n",
              "      <th>bid</th>\n",
              "      <th>ask</th>\n",
              "      <th>change</th>\n",
              "      <th>percentChange</th>\n",
              "      <th>volume</th>\n",
              "      <th>openInterest</th>\n",
              "      <th>impliedVolatility</th>\n",
              "      <th>inTheMoney</th>\n",
              "      <th>contractSize</th>\n",
              "      <th>currency</th>\n",
              "    </tr>\n",
              "  </thead>\n",
              "  <tbody>\n",
              "    <tr>\n",
              "      <th>0</th>\n",
              "      <td>AAPL221216C00030000</td>\n",
              "      <td>2022-11-29 16:39:22+00:00</td>\n",
              "      <td>30.0</td>\n",
              "      <td>112.00</td>\n",
              "      <td>117.50</td>\n",
              "      <td>118.25</td>\n",
              "      <td>0.000000</td>\n",
              "      <td>0.00000</td>\n",
              "      <td>1</td>\n",
              "      <td>2</td>\n",
              "      <td>3.296877</td>\n",
              "      <td>True</td>\n",
              "      <td>REGULAR</td>\n",
              "      <td>USD</td>\n",
              "    </tr>\n",
              "    <tr>\n",
              "      <th>1</th>\n",
              "      <td>AAPL221216C00035000</td>\n",
              "      <td>2022-11-11 15:15:22+00:00</td>\n",
              "      <td>35.0</td>\n",
              "      <td>112.30</td>\n",
              "      <td>112.50</td>\n",
              "      <td>113.25</td>\n",
              "      <td>0.000000</td>\n",
              "      <td>0.00000</td>\n",
              "      <td>4</td>\n",
              "      <td>22</td>\n",
              "      <td>2.984378</td>\n",
              "      <td>True</td>\n",
              "      <td>REGULAR</td>\n",
              "      <td>USD</td>\n",
              "    </tr>\n",
              "    <tr>\n",
              "      <th>2</th>\n",
              "      <td>AAPL221216C00040000</td>\n",
              "      <td>2022-12-02 18:53:22+00:00</td>\n",
              "      <td>40.0</td>\n",
              "      <td>106.66</td>\n",
              "      <td>107.50</td>\n",
              "      <td>108.20</td>\n",
              "      <td>-5.619995</td>\n",
              "      <td>-5.00534</td>\n",
              "      <td>4</td>\n",
              "      <td>389</td>\n",
              "      <td>2.578129</td>\n",
              "      <td>True</td>\n",
              "      <td>REGULAR</td>\n",
              "      <td>USD</td>\n",
              "    </tr>\n",
              "    <tr>\n",
              "      <th>3</th>\n",
              "      <td>AAPL221216C00045000</td>\n",
              "      <td>2022-11-02 18:35:32+00:00</td>\n",
              "      <td>45.0</td>\n",
              "      <td>106.50</td>\n",
              "      <td>102.50</td>\n",
              "      <td>103.15</td>\n",
              "      <td>0.000000</td>\n",
              "      <td>0.00000</td>\n",
              "      <td>238</td>\n",
              "      <td>483</td>\n",
              "      <td>2.125005</td>\n",
              "      <td>True</td>\n",
              "      <td>REGULAR</td>\n",
              "      <td>USD</td>\n",
              "    </tr>\n",
              "    <tr>\n",
              "      <th>4</th>\n",
              "      <td>AAPL221216C00050000</td>\n",
              "      <td>2022-11-18 20:46:59+00:00</td>\n",
              "      <td>50.0</td>\n",
              "      <td>101.73</td>\n",
              "      <td>97.55</td>\n",
              "      <td>98.20</td>\n",
              "      <td>0.000000</td>\n",
              "      <td>0.00000</td>\n",
              "      <td>2</td>\n",
              "      <td>331</td>\n",
              "      <td>2.265629</td>\n",
              "      <td>True</td>\n",
              "      <td>REGULAR</td>\n",
              "      <td>USD</td>\n",
              "    </tr>\n",
              "    <tr>\n",
              "      <th>...</th>\n",
              "      <td>...</td>\n",
              "      <td>...</td>\n",
              "      <td>...</td>\n",
              "      <td>...</td>\n",
              "      <td>...</td>\n",
              "      <td>...</td>\n",
              "      <td>...</td>\n",
              "      <td>...</td>\n",
              "      <td>...</td>\n",
              "      <td>...</td>\n",
              "      <td>...</td>\n",
              "      <td>...</td>\n",
              "      <td>...</td>\n",
              "      <td>...</td>\n",
              "    </tr>\n",
              "    <tr>\n",
              "      <th>62</th>\n",
              "      <td>AAPL221216C00270000</td>\n",
              "      <td>2022-11-18 15:04:00+00:00</td>\n",
              "      <td>270.0</td>\n",
              "      <td>0.01</td>\n",
              "      <td>0.00</td>\n",
              "      <td>0.01</td>\n",
              "      <td>0.000000</td>\n",
              "      <td>0.00000</td>\n",
              "      <td>1</td>\n",
              "      <td>2446</td>\n",
              "      <td>0.968750</td>\n",
              "      <td>False</td>\n",
              "      <td>REGULAR</td>\n",
              "      <td>USD</td>\n",
              "    </tr>\n",
              "    <tr>\n",
              "      <th>63</th>\n",
              "      <td>AAPL221216C00275000</td>\n",
              "      <td>2022-09-23 19:41:05+00:00</td>\n",
              "      <td>275.0</td>\n",
              "      <td>0.01</td>\n",
              "      <td>0.00</td>\n",
              "      <td>0.01</td>\n",
              "      <td>0.000000</td>\n",
              "      <td>0.00000</td>\n",
              "      <td>1500</td>\n",
              "      <td>3742</td>\n",
              "      <td>0.984375</td>\n",
              "      <td>False</td>\n",
              "      <td>REGULAR</td>\n",
              "      <td>USD</td>\n",
              "    </tr>\n",
              "    <tr>\n",
              "      <th>64</th>\n",
              "      <td>AAPL221216C00280000</td>\n",
              "      <td>2022-11-28 14:30:11+00:00</td>\n",
              "      <td>280.0</td>\n",
              "      <td>0.01</td>\n",
              "      <td>0.00</td>\n",
              "      <td>0.01</td>\n",
              "      <td>0.000000</td>\n",
              "      <td>0.00000</td>\n",
              "      <td>6</td>\n",
              "      <td>4898</td>\n",
              "      <td>1.031255</td>\n",
              "      <td>False</td>\n",
              "      <td>REGULAR</td>\n",
              "      <td>USD</td>\n",
              "    </tr>\n",
              "    <tr>\n",
              "      <th>65</th>\n",
              "      <td>AAPL221216C00285000</td>\n",
              "      <td>2022-10-05 14:08:22+00:00</td>\n",
              "      <td>285.0</td>\n",
              "      <td>0.01</td>\n",
              "      <td>0.00</td>\n",
              "      <td>0.01</td>\n",
              "      <td>0.000000</td>\n",
              "      <td>0.00000</td>\n",
              "      <td>3</td>\n",
              "      <td>1591</td>\n",
              "      <td>1.062505</td>\n",
              "      <td>False</td>\n",
              "      <td>REGULAR</td>\n",
              "      <td>USD</td>\n",
              "    </tr>\n",
              "    <tr>\n",
              "      <th>66</th>\n",
              "      <td>AAPL221216C00290000</td>\n",
              "      <td>2022-11-15 14:30:03+00:00</td>\n",
              "      <td>290.0</td>\n",
              "      <td>0.01</td>\n",
              "      <td>0.00</td>\n",
              "      <td>0.01</td>\n",
              "      <td>0.000000</td>\n",
              "      <td>0.00000</td>\n",
              "      <td>1</td>\n",
              "      <td>5636</td>\n",
              "      <td>1.062505</td>\n",
              "      <td>False</td>\n",
              "      <td>REGULAR</td>\n",
              "      <td>USD</td>\n",
              "    </tr>\n",
              "  </tbody>\n",
              "</table>\n",
              "<p>67 rows × 14 columns</p>\n",
              "</div>\n",
              "      <button class=\"colab-df-convert\" onclick=\"convertToInteractive('df-83ec4e34-f0a2-4b5a-a7cb-448450b79180')\"\n",
              "              title=\"Convert this dataframe to an interactive table.\"\n",
              "              style=\"display:none;\">\n",
              "        \n",
              "  <svg xmlns=\"http://www.w3.org/2000/svg\" height=\"24px\"viewBox=\"0 0 24 24\"\n",
              "       width=\"24px\">\n",
              "    <path d=\"M0 0h24v24H0V0z\" fill=\"none\"/>\n",
              "    <path d=\"M18.56 5.44l.94 2.06.94-2.06 2.06-.94-2.06-.94-.94-2.06-.94 2.06-2.06.94zm-11 1L8.5 8.5l.94-2.06 2.06-.94-2.06-.94L8.5 2.5l-.94 2.06-2.06.94zm10 10l.94 2.06.94-2.06 2.06-.94-2.06-.94-.94-2.06-.94 2.06-2.06.94z\"/><path d=\"M17.41 7.96l-1.37-1.37c-.4-.4-.92-.59-1.43-.59-.52 0-1.04.2-1.43.59L10.3 9.45l-7.72 7.72c-.78.78-.78 2.05 0 2.83L4 21.41c.39.39.9.59 1.41.59.51 0 1.02-.2 1.41-.59l7.78-7.78 2.81-2.81c.8-.78.8-2.07 0-2.86zM5.41 20L4 18.59l7.72-7.72 1.47 1.35L5.41 20z\"/>\n",
              "  </svg>\n",
              "      </button>\n",
              "      \n",
              "  <style>\n",
              "    .colab-df-container {\n",
              "      display:flex;\n",
              "      flex-wrap:wrap;\n",
              "      gap: 12px;\n",
              "    }\n",
              "\n",
              "    .colab-df-convert {\n",
              "      background-color: #E8F0FE;\n",
              "      border: none;\n",
              "      border-radius: 50%;\n",
              "      cursor: pointer;\n",
              "      display: none;\n",
              "      fill: #1967D2;\n",
              "      height: 32px;\n",
              "      padding: 0 0 0 0;\n",
              "      width: 32px;\n",
              "    }\n",
              "\n",
              "    .colab-df-convert:hover {\n",
              "      background-color: #E2EBFA;\n",
              "      box-shadow: 0px 1px 2px rgba(60, 64, 67, 0.3), 0px 1px 3px 1px rgba(60, 64, 67, 0.15);\n",
              "      fill: #174EA6;\n",
              "    }\n",
              "\n",
              "    [theme=dark] .colab-df-convert {\n",
              "      background-color: #3B4455;\n",
              "      fill: #D2E3FC;\n",
              "    }\n",
              "\n",
              "    [theme=dark] .colab-df-convert:hover {\n",
              "      background-color: #434B5C;\n",
              "      box-shadow: 0px 1px 3px 1px rgba(0, 0, 0, 0.15);\n",
              "      filter: drop-shadow(0px 1px 2px rgba(0, 0, 0, 0.3));\n",
              "      fill: #FFFFFF;\n",
              "    }\n",
              "  </style>\n",
              "\n",
              "      <script>\n",
              "        const buttonEl =\n",
              "          document.querySelector('#df-83ec4e34-f0a2-4b5a-a7cb-448450b79180 button.colab-df-convert');\n",
              "        buttonEl.style.display =\n",
              "          google.colab.kernel.accessAllowed ? 'block' : 'none';\n",
              "\n",
              "        async function convertToInteractive(key) {\n",
              "          const element = document.querySelector('#df-83ec4e34-f0a2-4b5a-a7cb-448450b79180');\n",
              "          const dataTable =\n",
              "            await google.colab.kernel.invokeFunction('convertToInteractive',\n",
              "                                                     [key], {});\n",
              "          if (!dataTable) return;\n",
              "\n",
              "          const docLinkHtml = 'Like what you see? Visit the ' +\n",
              "            '<a target=\"_blank\" href=https://colab.research.google.com/notebooks/data_table.ipynb>data table notebook</a>'\n",
              "            + ' to learn more about interactive tables.';\n",
              "          element.innerHTML = '';\n",
              "          dataTable['output_type'] = 'display_data';\n",
              "          await google.colab.output.renderOutput(dataTable, element);\n",
              "          const docLink = document.createElement('div');\n",
              "          docLink.innerHTML = docLinkHtml;\n",
              "          element.appendChild(docLink);\n",
              "        }\n",
              "      </script>\n",
              "    </div>\n",
              "  </div>\n",
              "  "
            ]
          },
          "metadata": {},
          "execution_count": 5
        }
      ],
      "source": [
        "opt = aapl.option_chain(date = '2022-12-16')\n",
        "opt_calls = pd.DataFrame(opt.calls)\n",
        "opt_calls"
      ]
    },
    {
      "cell_type": "code",
      "execution_count": null,
      "id": "98d60042",
      "metadata": {
        "id": "98d60042"
      },
      "outputs": [],
      "source": [
        "class BlackScholes:\n",
        "    \"\"\" \n",
        "    Class to calculate (European) call and put option prices through the Black-Scholes formula \n",
        "    without dividends\n",
        "    \n",
        "    :param S: Price of underlying stock\n",
        "    :param K: Strike price\n",
        "    :param T: Time till expiration (in years)\n",
        "    :param r: Risk-free interest rate (0.05 indicates 5%)\n",
        "    :param sigma: Volatility (standard deviation) of stock (0.15 indicates 15%)\n",
        "    \"\"\"\n",
        "    def _d1(self, S, K, T, r, sigma):\n",
        "        return (1 / (sigma * np.sqrt(T))) * (np.log(S/K) + (r + sigma**2 / 2) * T)\n",
        "    \n",
        "    def _d2(self, S, K, T, r, sigma):\n",
        "        return self._d1(S, K, T, r, sigma) - sigma * np.sqrt(T)\n",
        "    \n",
        "    def call_price(self, S, K, T, r, sigma):\n",
        "        \"\"\" Main method for calculating price of a call option \"\"\"\n",
        "        d1 = self._d1(S, K, T, r, sigma)\n",
        "        d2 = self._d2(S, K, T, r, sigma)\n",
        "        return norm.cdf(d1) * S - norm.cdf(d2) * K * np.exp(-r*T)\n",
        "    \n",
        "    def put_price(self, S, K, T, r, sigma):\n",
        "        \"\"\" Main method for calculating price of a put option \"\"\"\n",
        "        d1 = self._d1(S, K, T, r, sigma)\n",
        "        d2 = self._d2(S, K, T, r, sigma)\n",
        "        return norm.cdf(-d2) * K * np.exp(-r*T) - norm.cdf(-d1) * S\n",
        "    \n",
        "    def call_in_the_money(self, S, K, T, r, sigma):\n",
        "        \"\"\" \n",
        "        Calculate probability that call option will be in the money at\n",
        "        maturity according to Black-Scholes.\n",
        "        \"\"\"\n",
        "        d2 = self._d2(S, K, T, r, sigma)\n",
        "        return norm.cdf(d2)\n",
        "    \n",
        "    def put_in_the_money(self, S, K, T, r, sigma):\n",
        "        \"\"\" \n",
        "        Calculate probability that put option will be in the money at\n",
        "        maturity according to Black-Scholes.\n",
        "        \"\"\"\n",
        "        d2 = self._d2(S, K, T, r, sigma)\n",
        "        return 1 - norm.cdf(d2)"
      ]
    },
    {
      "cell_type": "code",
      "execution_count": null,
      "id": "8cda77a0",
      "metadata": {
        "colab": {
          "base_uri": "https://localhost:8080/"
        },
        "id": "8cda77a0",
        "outputId": "d92abb47-1241-4be3-bec6-ca751e960b13"
      },
      "outputs": [
        {
          "output_type": "execute_result",
          "data": {
            "text/plain": [
              "0.35034829345703117"
            ]
          },
          "metadata": {},
          "execution_count": 7
        }
      ],
      "source": [
        "S = 149.70 # Stock price\n",
        "K = 160 # Strike price\n",
        "T = 34/365 # Time till expiration (in years)\n",
        "r = 0.03819 # Risk-free interest rate\n",
        "sigma = opt_calls['impliedVolatility'][26] # Volatility (standard deviation)\n",
        "sigma"
      ]
    },
    {
      "cell_type": "code",
      "execution_count": null,
      "id": "6edbc8cc",
      "metadata": {
        "colab": {
          "base_uri": "https://localhost:8080/"
        },
        "id": "6edbc8cc",
        "outputId": "70b3b3b9-a55a-4690-b236-6b984b85e63e"
      },
      "outputs": [
        {
          "output_type": "execute_result",
          "data": {
            "text/plain": [
              "2.8342555700533936"
            ]
          },
          "metadata": {},
          "execution_count": 8
        }
      ],
      "source": [
        "BlackScholes().call_price(S, K, T, r, sigma)"
      ]
    },
    {
      "cell_type": "code",
      "execution_count": null,
      "id": "992a9c96",
      "metadata": {
        "colab": {
          "base_uri": "https://localhost:8080/"
        },
        "id": "992a9c96",
        "outputId": "c6b2e11f-8626-4c0b-c0b2-8696a917ecfa"
      },
      "outputs": [
        {
          "output_type": "execute_result",
          "data": {
            "text/plain": [
              "5.97"
            ]
          },
          "metadata": {},
          "execution_count": 9
        }
      ],
      "source": [
        "traded_price = opt_calls['lastPrice'][26]\n",
        "traded_price"
      ]
    },
    {
      "cell_type": "markdown",
      "source": [
        "### Comparing option contracts of different maturity dates"
      ],
      "metadata": {
        "id": "AR2Zhjm2vHLF"
      },
      "id": "AR2Zhjm2vHLF"
    },
    {
      "cell_type": "markdown",
      "source": [
        "Volumes of option contracts (Calls/Puts)\n",
        "\n"
      ],
      "metadata": {
        "id": "rtMSpSaiXlKo"
      },
      "id": "rtMSpSaiXlKo"
    },
    {
      "cell_type": "code",
      "execution_count": null,
      "id": "5aa09b79",
      "metadata": {
        "id": "5aa09b79"
      },
      "outputs": [],
      "source": [
        "# Obtain a tuple of expiration dates\n",
        "exp = aapl.options\n",
        "\n",
        "# Convert a tuple into a list\n",
        "exp = list(exp)\n",
        "\n",
        "dates = []\n",
        "for i in range(0,len(exp)):\n",
        "  date = datetime.strptime(exp[i], \"%Y-%m-%d\")\n",
        "  dates.append(date)"
      ]
    },
    {
      "cell_type": "code",
      "source": [
        "# Create a plot for the number of option contracts for different expiration dates throughout the year (CALLS/PUTS)\n",
        "\n",
        "# Count the number of calls and puts for each expiration date and store into a list\n",
        "counts_call = []\n",
        "for i in exp:\n",
        "  opt = aapl.option_chain(date = i)\n",
        "  opt_calls = pd.DataFrame(opt.calls)\n",
        "  counts_call.append(len(opt_calls))\n",
        "\n",
        "counts_put = []\n",
        "for i in exp:\n",
        "  opt = aapl.option_chain(date = i)\n",
        "  opt_puts = pd.DataFrame(opt.puts)\n",
        "  counts_put.append(len(opt_puts))\n",
        "\n",
        "# Plot a time series line graph for call and put options\n",
        "plt.figure(figsize=(10,5))\n",
        "plt.title('Number of Option Contracts for different Expiration Dates')\n",
        "plt.xlabel('Expiration Dates')\n",
        "plt.ylabel('Number of Option Contracts')\n",
        "plt.plot(dates, counts_call, label = 'Calls')\n",
        "plt.plot(dates, counts_put, label = 'Puts')\n",
        "plt.legend(loc = \"upper right\")\n",
        "plt.show()"
      ],
      "metadata": {
        "colab": {
          "base_uri": "https://localhost:8080/",
          "height": 350
        },
        "id": "SfT_0-FbJHQA",
        "outputId": "b40477cd-7766-421b-b64f-3cd3587ad998"
      },
      "id": "SfT_0-FbJHQA",
      "execution_count": null,
      "outputs": [
        {
          "output_type": "display_data",
          "data": {
            "text/plain": [
              "<Figure size 720x360 with 1 Axes>"
            ],
            "image/png": "[encoded data removed]"
          },
          "metadata": {
            "needs_background": "light"
          }
        }
      ]
    },
    {
      "cell_type": "markdown",
      "source": [
        "Strike Price Distributions"
      ],
      "metadata": {
        "id": "iwaBKR-uXrJd"
      },
      "id": "iwaBKR-uXrJd"
    },
    {
      "cell_type": "code",
      "source": [
        "opt1 = aapl.option_chain(date = '2022-12-16')\n",
        "opt_call1 = pd.DataFrame(opt.calls)\n",
        "print(opt_call1)"
      ],
      "metadata": {
        "colab": {
          "base_uri": "https://localhost:8080/"
        },
        "id": "vHJcA22lXY1T",
        "outputId": "7ffabf32-bb63-4c76-b693-bd633c17ee9d"
      },
      "id": "vHJcA22lXY1T",
      "execution_count": null,
      "outputs": [
        {
          "output_type": "stream",
          "name": "stdout",
          "text": [
            "         contractSymbol             lastTradeDate  strike  lastPrice    bid  \\\n",
            "0   AAPL250117C00050000 2022-12-02 16:29:32+00:00    50.0     100.54  99.65   \n",
            "1   AAPL250117C00055000 2022-12-02 14:45:04+00:00    55.0      96.50  95.60   \n",
            "2   AAPL250117C00060000 2022-12-01 20:26:56+00:00    60.0      93.84  91.55   \n",
            "3   AAPL250117C00065000 2022-12-02 20:13:51+00:00    65.0      89.80  87.35   \n",
            "4   AAPL250117C00070000 2022-11-30 15:55:51+00:00    70.0      79.53  83.40   \n",
            "5   AAPL250117C00075000 2022-12-01 18:27:43+00:00    75.0      82.00  79.95   \n",
            "6   AAPL250117C00080000 2022-11-30 15:03:53+00:00    80.0      72.00  76.15   \n",
            "7   AAPL250117C00085000 2022-11-28 19:41:01+00:00    85.0      70.13  72.20   \n",
            "8   AAPL250117C00090000 2022-11-30 20:27:00+00:00    90.0      69.20  68.45   \n",
            "9   AAPL250117C00095000 2022-11-30 19:33:59+00:00    95.0      65.33  64.85   \n",
            "10  AAPL250117C00100000 2022-12-02 20:06:19+00:00   100.0      61.97  62.00   \n",
            "11  AAPL250117C00105000 2022-11-30 19:41:13+00:00   105.0      57.75  57.85   \n",
            "12  AAPL250117C00110000 2022-12-02 20:18:55+00:00   110.0      55.39  54.25   \n",
            "13  AAPL250117C00115000 2022-12-01 20:33:50+00:00   115.0      52.40  51.10   \n",
            "14  AAPL250117C00120000 2022-12-02 19:58:16+00:00   120.0      47.46  47.75   \n",
            "15  AAPL250117C00125000 2022-12-02 20:44:10+00:00   125.0      45.60  44.70   \n",
            "16  AAPL250117C00130000 2022-12-02 19:59:11+00:00   130.0      42.20  41.80   \n",
            "17  AAPL250117C00135000 2022-12-02 20:45:10+00:00   135.0      40.00  38.95   \n",
            "18  AAPL250117C00140000 2022-12-02 20:03:23+00:00   140.0      36.80  36.20   \n",
            "19  AAPL250117C00145000 2022-12-02 20:46:14+00:00   145.0      34.00  33.75   \n",
            "20  AAPL250117C00150000 2022-12-02 20:58:20+00:00   150.0      31.96  31.20   \n",
            "21  AAPL250117C00155000 2022-12-02 18:23:54+00:00   155.0      28.95  29.30   \n",
            "22  AAPL250117C00160000 2022-12-02 17:26:08+00:00   160.0      26.95  27.05   \n",
            "23  AAPL250117C00165000 2022-12-01 19:21:53+00:00   165.0      25.95  24.60   \n",
            "24  AAPL250117C00170000 2022-12-02 20:45:20+00:00   170.0      23.19  22.35   \n",
            "25  AAPL250117C00175000 2022-12-02 20:59:23+00:00   175.0      21.55  20.70   \n",
            "26  AAPL250117C00180000 2022-12-02 20:05:44+00:00   180.0      19.45  19.35   \n",
            "27  AAPL250117C00185000 2022-12-02 20:45:20+00:00   185.0      17.95  17.65   \n",
            "28  AAPL250117C00190000 2022-12-02 16:08:09+00:00   190.0      15.80  15.95   \n",
            "29  AAPL250117C00195000 2022-12-01 18:37:39+00:00   195.0      15.50  14.35   \n",
            "30  AAPL250117C00200000 2022-12-02 20:27:52+00:00   200.0      13.70  13.35   \n",
            "31  AAPL250117C00205000 2022-11-30 16:29:33+00:00   205.0      11.28  11.75   \n",
            "32  AAPL250117C00210000 2022-12-02 20:53:07+00:00   210.0      11.40  10.95   \n",
            "33  AAPL250117C00215000 2022-12-02 20:13:58+00:00   215.0      10.62   9.90   \n",
            "34  AAPL250117C00220000 2022-12-02 19:50:33+00:00   220.0       9.30   9.15   \n",
            "35  AAPL250117C00225000 2022-12-02 16:28:04+00:00   225.0       8.50   8.00   \n",
            "36  AAPL250117C00230000 2022-12-02 20:08:35+00:00   230.0       7.90   7.35   \n",
            "37  AAPL250117C00235000 2022-12-02 16:28:04+00:00   235.0       7.25   6.80   \n",
            "38  AAPL250117C00240000 2022-12-01 16:31:22+00:00   240.0       6.97   5.90   \n",
            "39  AAPL250117C00245000 2022-11-30 20:21:57+00:00   245.0       5.95   5.30   \n",
            "40  AAPL250117C00250000 2022-12-02 20:28:22+00:00   250.0       5.35   5.05   \n",
            "41  AAPL250117C00255000 2022-11-30 16:56:21+00:00   255.0       4.47   4.35   \n",
            "42  AAPL250117C00260000 2022-12-02 17:57:08+00:00   260.0       4.40   4.30   \n",
            "43  AAPL250117C00265000 2022-11-30 18:20:40+00:00   265.0       3.67   3.65   \n",
            "44  AAPL250117C00270000 2022-12-01 16:25:00+00:00   270.0       3.90   3.40   \n",
            "45  AAPL250117C00275000 2022-11-29 18:42:15+00:00   275.0       3.05   2.83   \n",
            "46  AAPL250117C00280000 2022-11-30 19:08:23+00:00   280.0       3.15   2.60   \n",
            "47  AAPL250117C00285000 2022-11-29 19:45:22+00:00   285.0       2.55   2.34   \n",
            "48  AAPL250117C00290000 2022-12-02 14:45:45+00:00   290.0       2.76   2.43   \n",
            "49  AAPL250117C00300000 2022-12-02 20:03:28+00:00   300.0       2.17   2.11   \n",
            "50  AAPL250117C00310000 2022-12-02 20:05:48+00:00   310.0       1.89   1.80   \n",
            "\n",
            "       ask    change  percentChange  volume  openInterest  impliedVolatility  \\\n",
            "0   103.75 -0.909996      -0.896990       5           436           0.610966   \n",
            "1    99.45 -0.910004      -0.934199       1          1545           0.596745   \n",
            "2    95.30  0.000000       0.000000      99           415           0.583256   \n",
            "3    91.15  2.550003       2.922640       3           498           0.565617   \n",
            "4    87.05  0.000000       0.000000       1           402           0.551579   \n",
            "5    82.80  0.000000       0.000000      51          1508           0.540868   \n",
            "6    78.50  0.000000       0.000000       1           363           0.523870   \n",
            "7    74.60  0.000000       0.000000       4           470           0.509160   \n",
            "8    70.80  0.000000       0.000000       1           331           0.520238   \n",
            "9    66.70  0.000000       0.000000      12          2838           0.499303   \n",
            "10   62.95 -1.029999      -1.634919      36          4731           0.484624   \n",
            "11   59.55  0.000000       0.000000       7            95           0.475164   \n",
            "12   56.10 -0.410000      -0.734767       8           817           0.463781   \n",
            "13   53.45  0.000000       0.000000       3           752           0.463506   \n",
            "14   49.55 -1.790001      -3.634520       5          2672           0.443487   \n",
            "15   46.40 -0.570000      -1.234567      12           837           0.433630   \n",
            "16   43.45 -1.000000      -2.314815       5          1239           0.425467   \n",
            "17   40.55 -0.799999      -1.960783      14          6834           0.416876   \n",
            "18   37.85 -1.229999      -3.234288      27          2824           0.409765   \n",
            "19   35.30 -1.450001      -4.090270      26          3999           0.403387   \n",
            "20   32.65 -0.940002      -2.857150      46          3242           0.394705   \n",
            "21   30.65 -1.250000      -4.139073      72          3189           0.392706   \n",
            "22   27.80 -1.150000      -4.092525      82          5838           0.379523   \n",
            "23   25.80  0.000000       0.000000       8          2296           0.375281   \n",
            "24   23.50 -0.809999      -3.374998      17          2239           0.366431   \n",
            "25   22.45 -0.040001      -0.185275      10          3495           0.371039   \n",
            "26   20.15 -1.049999      -5.121947      40          3108           0.360022   \n",
            "27   18.50 -0.500000      -2.710027      10          2268           0.355506   \n",
            "28   17.10 -1.849999     -10.481584       2          2635           0.352912   \n",
            "29   15.45  0.000000       0.000000       5          1001           0.346274   \n",
            "30   14.35 -0.550000      -3.859650      14          6071           0.345313   \n",
            "31   13.10  0.000000       0.000000       1            84           0.341559   \n",
            "32   11.90 -0.600000      -5.000003      39          1011           0.337439   \n",
            "33   10.85 -0.330000      -3.013698      20           390           0.334281   \n",
            "34   10.00 -0.620000      -6.249999       1          2390           0.332923   \n",
            "35    9.30 -0.500000      -5.555556       1           744           0.332862   \n",
            "36    8.50 -0.410000      -4.933818      35           879           0.330604   \n",
            "37    7.55  0.000000       0.000000       1           172           0.325202   \n",
            "38    6.95  0.000000       0.000000      10           659           0.324256   \n",
            "39    6.50  0.000000       0.000000     118           303           0.325049   \n",
            "40    5.75 -0.580000      -9.780775       7          1057           0.320136   \n",
            "41    5.25  0.000000       0.000000       1            61           0.318671   \n",
            "42    4.90 -0.250000      -5.376344       1           490           0.319343   \n",
            "43    4.55  0.000000       0.000000       3            71           0.319465   \n",
            "44    4.15  0.000000       0.000000       9           291           0.318031   \n",
            "45    3.75  0.000000       0.000000      23           182           0.315925   \n",
            "46    3.35  0.000000       0.000000       1           532           0.313056   \n",
            "47    3.15  0.000000       0.000000      17           105           0.314277   \n",
            "48    2.75  0.090000       3.370783       1           325           0.310004   \n",
            "49    2.41 -0.130000      -5.652169      15          2327           0.311591   \n",
            "50    2.00 -0.120000      -5.970149     269          3128           0.309516   \n",
            "\n",
            "    inTheMoney contractSize currency  \n",
            "0         True      REGULAR      USD  \n",
            "1         True      REGULAR      USD  \n",
            "2         True      REGULAR      USD  \n",
            "3         True      REGULAR      USD  \n",
            "4         True      REGULAR      USD  \n",
            "5         True      REGULAR      USD  \n",
            "6         True      REGULAR      USD  \n",
            "7         True      REGULAR      USD  \n",
            "8         True      REGULAR      USD  \n",
            "9         True      REGULAR      USD  \n",
            "10        True      REGULAR      USD  \n",
            "11        True      REGULAR      USD  \n",
            "12        True      REGULAR      USD  \n",
            "13        True      REGULAR      USD  \n",
            "14        True      REGULAR      USD  \n",
            "15        True      REGULAR      USD  \n",
            "16        True      REGULAR      USD  \n",
            "17        True      REGULAR      USD  \n",
            "18        True      REGULAR      USD  \n",
            "19        True      REGULAR      USD  \n",
            "20       False      REGULAR      USD  \n",
            "21       False      REGULAR      USD  \n",
            "22       False      REGULAR      USD  \n",
            "23       False      REGULAR      USD  \n",
            "24       False      REGULAR      USD  \n",
            "25       False      REGULAR      USD  \n",
            "26       False      REGULAR      USD  \n",
            "27       False      REGULAR      USD  \n",
            "28       False      REGULAR      USD  \n",
            "29       False      REGULAR      USD  \n",
            "30       False      REGULAR      USD  \n",
            "31       False      REGULAR      USD  \n",
            "32       False      REGULAR      USD  \n",
            "33       False      REGULAR      USD  \n",
            "34       False      REGULAR      USD  \n",
            "35       False      REGULAR      USD  \n",
            "36       False      REGULAR      USD  \n",
            "37       False      REGULAR      USD  \n",
            "38       False      REGULAR      USD  \n",
            "39       False      REGULAR      USD  \n",
            "40       False      REGULAR      USD  \n",
            "41       False      REGULAR      USD  \n",
            "42       False      REGULAR      USD  \n",
            "43       False      REGULAR      USD  \n",
            "44       False      REGULAR      USD  \n",
            "45       False      REGULAR      USD  \n",
            "46       False      REGULAR      USD  \n",
            "47       False      REGULAR      USD  \n",
            "48       False      REGULAR      USD  \n",
            "49       False      REGULAR      USD  \n",
            "50       False      REGULAR      USD  \n"
          ]
        }
      ]
    },
    {
      "cell_type": "code",
      "source": [
        "plt.plot(opt_call1['strike'], opt_call1['volume'])\n",
        "plt.xlabel('strike price')\n",
        "plt.ylabel('volume traded')\n",
        "plt.title('distribution of strike prices')\n",
        "plt.show()\n",
        "\n",
        "plt.plot(opt_call1['strike'], opt_call1['impliedVolatility'])\n",
        "plt.xlabel('strike price')\n",
        "plt.ylabel('implied volatility')\n",
        "plt.title('distribution of implied volatility')\n",
        "plt.show()"
      ],
      "metadata": {
        "colab": {
          "base_uri": "https://localhost:8080/",
          "height": 573
        },
        "id": "Y5pH8-VhZK_q",
        "outputId": "e9b22c0d-ab9d-4e7b-c296-9eb64747b2cb"
      },
      "id": "Y5pH8-VhZK_q",
      "execution_count": null,
      "outputs": [
        {
          "output_type": "display_data",
          "data": {
            "text/plain": [
              "<Figure size 432x288 with 1 Axes>"
            ],
            "image/png": "[encoded data removed]"
          },
          "metadata": {
            "needs_background": "light"
          }
        },
        {
          "output_type": "display_data",
          "data": {
            "text/plain": [
              "<Figure size 432x288 with 1 Axes>"
            ],
            "image/png": "[encoded data removed]"
          },
          "metadata": {
            "needs_background": "light"
          }
        }
      ]
    }
  ],
  "metadata": {
    "kernelspec": {
      "display_name": "Python 3 (ipykernel)",
      "language": "python",
      "name": "python3"
    },
    "language_info": {
      "codemirror_mode": {
        "name": "ipython",
        "version": 3
      },
      "file_extension": ".py",
      "mimetype": "text/x-python",
      "name": "python",
      "nbconvert_exporter": "python",
      "pygments_lexer": "ipython3",
      "version": "3.9.7"
    },
    "colab": {
      "provenance": []
    }
  },
  "nbformat": 4,
  "nbformat_minor": 5
}